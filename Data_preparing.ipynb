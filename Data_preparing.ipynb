{
 "cells": [
  {
   "cell_type": "markdown",
   "id": "dab49ffd-3623-4a24-a80c-e28e8152292e",
   "metadata": {},
   "source": [
    "### Remove Broken Images"
   ]
  },
  {
   "cell_type": "code",
   "execution_count": null,
   "id": "e4d00094-7e9a-4ab0-af35-12dda5a86a38",
   "metadata": {
    "tags": []
   },
   "outputs": [],
   "source": [
    "from glob import glob\n",
    "from tqdm import tqdm\n",
    "import cv2\n",
    "import os\n",
    "\n",
    "img_files = glob('autodl-tmp/ACCV_384/*/*')\n",
    "for file in tqdm(img_files):\n",
    "    img = cv2.imread(file)\n",
    "    if img is None:\n",
    "        print('None:', file)\n",
    "    elif img.sum()<100:\n",
    "        print('Remove:', file)\n",
    "        os.remove(file)\n",
    "    elif img.shape[2]!=3:\n",
    "        print('Png:', file)"
   ]
  },
  {
   "cell_type": "markdown",
   "id": "e913f0fa-db15-4132-a4e4-fb23e1f6d7ce",
   "metadata": {},
   "source": [
    "### Make csv file"
   ]
  },
  {
   "cell_type": "code",
   "execution_count": null,
   "id": "0f09aaa3-46fd-4f04-ad91-18b1363b1c5a",
   "metadata": {},
   "outputs": [],
   "source": [
    "from glob import glob\n",
    "from tqdm import tqdm\n",
    "import os\n",
    "\n",
    "all_ids = []\n",
    "all_labels = []\n",
    "all_cls = glob('autodl-tmp/ACCV_384/*')\n",
    "for c in all_cls:\n",
    "    files = glob(os.path.join(c, '*'))\n",
    "    all_ids.extend(files)\n",
    "    all_lables.extend([int(cl.split('/')[-2]) for cl in files])\n",
    "    \n",
    "df_dict = {'image_files': all_ids,\n",
    "           'lables': all_labels,}\n",
    "df = pd.DataFrame(df_dict)\n",
    "df.to_csv('ACCV_384.csv', index=False)\n",
    "df.head()"
   ]
  },
  {
   "cell_type": "markdown",
   "id": "c3bbb813-c56c-4864-849e-decfbdfac137",
   "metadata": {},
   "source": [
    "### Statistic"
   ]
  },
  {
   "cell_type": "code",
   "execution_count": null,
   "id": "67275e12-1f3b-4d35-bf89-4d9e7aa2df28",
   "metadata": {},
   "outputs": [],
   "source": [
    "import pandas as pd\n",
    "df = pd.read_csv('autodl-tmp/ACCV_384.csv')\n",
    "counts = df['labels'].value_counts().to_list()\n",
    "print('max_count:', max(counts))\n",
    "print('min_count:', min(counts))"
   ]
  },
  {
   "cell_type": "markdown",
   "id": "52d4f9e4-ce49-438c-9204-55b409eaca3c",
   "metadata": {},
   "source": [
    "### Resample"
   ]
  },
  {
   "cell_type": "code",
   "execution_count": null,
   "id": "9b6ded66-eea0-4359-abda-ae2d9f6b03f1",
   "metadata": {},
   "outputs": [],
   "source": [
    "import pandas as pd\n",
    "from tqdm import tqdm\n",
    "import math\n",
    "min_ = 211\n",
    "df = pd.read_csv('autodl-tmp/ACCV_384_fold.csv')\n",
    "new_groups = []\n",
    "for label, group in tqdm(df.groupby('labels')):\n",
    "    group = group.reset_index(drop=True)\n",
    "    if len(group)<min_:\n",
    "        n = min_//len(group)\n",
    "        for i in range(n):\n",
    "            new_groups.append(group)\n",
    "        if min_%len(group)!=0:\n",
    "            new_groups.append(group.sample(min_%len(group)))\n",
    "    else:\n",
    "        new_groups.append(group)\n",
    "new_df = pd.concat(new_groups, axis=0).reset_index(drop=True)\n",
    "print('num:', df.shape[0], 'classes:', df['labels'].nunique())\n",
    "print('----->>>')\n",
    "print('num:', new_df.shape[0], 'classes:', new_df['labels'].nunique())\n",
    "new_df.to_csv('autodl-tmp/ACCV_384_balance_fold.csv', index=False)\n",
    "new_df.head(5)"
   ]
  },
  {
   "cell_type": "markdown",
   "id": "0607bdef-7ca1-42ba-98a3-05ff276887d3",
   "metadata": {},
   "source": [
    "### StratifiedKfold"
   ]
  },
  {
   "cell_type": "code",
   "execution_count": null,
   "id": "0c54caf9-a8a7-466a-adaa-e4f0616cc19e",
   "metadata": {},
   "outputs": [],
   "source": [
    "from glob import glob\n",
    "import pandas as pd\n",
    "from sklearn.model_selection import StratifiedKFold\n",
    "from tqdm import tqdm\n",
    "df = pd.read_csv('autodl-tmp/ACCV_384_balance_fold.csv')\n",
    "df['fold'] = -1\n",
    "split = list(StratifiedKFold(n_splits=10, shuffle=True, random_state=999).split(df, df['labels']))\n",
    "for fold, (train_idx, valid_idx) in enumerate(split):\n",
    "    df.loc[valid_idx, 'fold'] = fold\n",
    "df.to_csv('autodl-tmp/ACCV_384_balance_fold.csv', index=False)\n",
    "print(df.shape[0], df.nunique())\n",
    "df.head(10)"
   ]
  }
 ],
 "metadata": {
  "kernelspec": {
   "display_name": "Python 3 (ipykernel)",
   "language": "python",
   "name": "python3"
  },
  "language_info": {
   "codemirror_mode": {
    "name": "ipython",
    "version": 3
   },
   "file_extension": ".py",
   "mimetype": "text/x-python",
   "name": "python",
   "nbconvert_exporter": "python",
   "pygments_lexer": "ipython3",
   "version": "3.8.10"
  }
 },
 "nbformat": 4,
 "nbformat_minor": 5
}
